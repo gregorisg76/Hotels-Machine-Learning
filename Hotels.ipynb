{
  "cells": [
    {
      "cell_type": "markdown",
      "metadata": {
        "id": "lVLyrZBwAMkg"
      },
      "source": [
        "#**Machine Learning in Python - Project 2**"
      ]
    },
    {
      "cell_type": "markdown",
      "metadata": {
        "id": "U0r67DwRAMkl"
      },
      "source": [
        "**Gregoris Georgiou, Antonis Hadjiosif, Yasmin Hengster & Eshan Ratnaweera**"
      ]
    },
    {
      "cell_type": "markdown",
      "metadata": {
        "id": "BCm4BMspAMkl"
      },
      "source": [
        "## 0. Setup"
      ]
    },
    {
      "cell_type": "code",
      "execution_count": null,
      "metadata": {
        "id": "H-22boBGAMkm",
        "outputId": "05869d5b-d04d-4c01-c661-70286443cbd5",
        "colab": {
          "base_uri": "https://localhost:8080/"
        }
      },
      "outputs": [
        {
          "output_type": "stream",
          "name": "stdout",
          "text": [
            "Drive already mounted at /content/drive; to attempt to forcibly remount, call drive.mount(\"/content/drive\", force_remount=True).\n",
            "hotel.csv\n"
          ]
        }
      ],
      "source": [
        "# Add any additional libraries or submodules below\n",
        "\n",
        "# Display plots inline\n",
        "%matplotlib inline\n",
        "\n",
        "# Data libraries\n",
        "import pandas as pd\n",
        "import numpy as np\n",
        "\n",
        "# Plotting libraries\n",
        "import matplotlib.pyplot as plt\n",
        "import seaborn as sns\n",
        "\n",
        "# Plotting defaults\n",
        "plt.rcParams['figure.figsize'] = (8,5)\n",
        "plt.rcParams['figure.dpi'] = 80\n",
        "\n",
        "# sklearn modules\n",
        "import sklearn\n",
        "from sklearn.model_selection import train_test_split\n",
        "from sklearn.preprocessing import LabelEncoder\n",
        "from sklearn.linear_model import LogisticRegression\n",
        "from sklearn.metrics import mean_squared_error\n",
        "from sklearn.metrics import accuracy_score\n",
        "from sklearn.metrics import roc_auc_score\n",
        "from sklearn.metrics import classification_report\n",
        "from sklearn.metrics import confusion_matrix\n",
        "from sklearn.metrics import f1_score\n",
        "\n",
        "#from IPython.display import Image                # displaying .png images\n",
        "from sklearn.preprocessing import StandardScaler # scaling features\n",
        "from sklearn.preprocessing import MinMaxScaler # scaling features\n",
        "from sklearn.pipeline import Pipeline            # combining classifier steps\n",
        "from sklearn.preprocessing import PolynomialFeatures # make PolynomialFeatures\n",
        "import warnings # prevent warnings\n",
        "warnings.filterwarnings(\"ignore\")\n",
        "from time import time\n",
        "from sklearn.model_selection import GridSearchCV, RandomizedSearchCV, KFold, StratifiedKFold\n",
        "from scipy.stats.distributions import uniform, loguniform\n",
        "\n",
        "from imblearn.under_sampling import RandomUnderSampler\n",
        "from collections import Counter\n",
        "from imblearn.metrics import classification_report_imbalanced\n",
        "import re\n",
        "\n",
        "from sklearn.model_selection import cross_validate\n",
        "\n",
        "\n",
        "\n",
        "\n",
        "import os\n",
        "from google.colab import drive\n",
        "\n",
        "drive.mount('/content/drive')\n",
        "os.chdir('drive/My Drive/Colab Notebooks/mlp/projects/2')\n",
        "!ls"
      ]
    },
    {
      "cell_type": "code",
      "execution_count": null,
      "metadata": {
        "id": "WwKv4o6SAMko"
      },
      "outputs": [],
      "source": [
        "d = pd.read_csv(\"hotel.csv\")"
      ]
    },
    {
      "cell_type": "code",
      "source": [
        "d = d.drop_duplicates() #are duplicates really duplicates or coincidences for example two families going on holiday together, therefore the same row twice. We have to decide how we interpret that \n",
        "\n",
        "# Check to see missing values\n",
        "#drop company as most of the entries was NaN (maybe want to do the same with agent- maybe cause we also have a lot of agents and I cant see how)\n",
        "d = d.drop(['company','agent'], axis = 1)\n",
        "#drop rows where at least one value is NaN \n",
        "d = d.dropna()\n"
      ],
      "metadata": {
        "id": "TPLbYjyU0Aa6"
      },
      "execution_count": null,
      "outputs": []
    },
    {
      "cell_type": "code",
      "source": [
        "d[\"lead_weeks\"] = np.round(d[\"lead_time\"]/7)\n",
        "d = d.drop('lead_time', axis = 1)"
      ],
      "metadata": {
        "id": "8Po1E4Lrd8Zo"
      },
      "execution_count": null,
      "outputs": []
    },
    {
      "cell_type": "code",
      "source": [
        "#modify some of the features\n",
        "#save day of the month as extra data frame\n",
        "d_day = pd.DataFrame()\n",
        "d_day['arrival_date_day_of_month'] = d['arrival_date_day_of_month']\n",
        "\n",
        "#create column if reserved room is assigned room\n",
        "d['room_type'] = d['assigned_room_type'] == d['reserved_room_type']\n",
        "d = d.astype({'room_type': 'int32'})\n",
        "d = d.drop(['assigned_room_type','reserved_room_type'], axis = 1)\n",
        "\n",
        "#summarise number of children and babies in 1 feature (because why not)\n",
        "d['total_children'] = d['children'] + d['babies']\n",
        "d = d.drop(['babies','children'], axis = 1)\n",
        "\n",
        "#also drop year (we can't go back in time). Month and day would be interesting (to check if there is a time when it's more likely that people cancel), but can also be summarised in the week number\n",
        "#Including the days would be useful as an indicator if people might cancel towards the end of the month because there is no money left\n",
        "#-> definetly drop months (that is included in the week number) \n",
        "#looking at the histogram of arrival date day, histogram looks uniformly distributed, therefore arrival day is likely not to influence cancellation\n",
        "d = d.drop(['arrival_date_month', 'arrival_date_year', 'arrival_date_day_of_month'],axis = 1)\n",
        "\n",
        "\n",
        "d['stay_in_nights'] = d['stays_in_week_nights'] + d['stays_in_weekend_nights']\n",
        "d = d.drop(['stays_in_week_nights','stays_in_weekend_nights'], axis = 1)\n",
        "\n",
        "# when we want to run the model to predict if booking will be canceled, we don't know the number of requests (requests can only be made if booking is not cancelled)\n",
        "# d = d.drop(['total_of_special_requests'],axis = 1)\n"
      ],
      "metadata": {
        "id": "QdmL3jNv3tmx"
      },
      "execution_count": null,
      "outputs": []
    },
    {
      "cell_type": "code",
      "source": [
        "#one-hot encoding\n",
        "\n",
        "drop_decision = True\n",
        "dummy_hotel = pd.get_dummies(d['hotel'],\n",
        "                             drop_first = drop_decision)\n",
        "\n",
        "dummy_meal = pd.get_dummies(d['meal'],\n",
        "                            drop_first = drop_decision,\n",
        "                            prefix = \"meal\")\n",
        "#Also make as one column SC and Undefined as in the instructions it means the same thing\n",
        "dummy_meal['meal_SC'] = dummy_meal['meal_SC'] + dummy_meal['meal_Undefined']\n",
        "dummy_meal = dummy_meal.drop(['meal_Undefined'], axis = 1)\n",
        "\n",
        "\n",
        "dummy_country = pd.get_dummies(d['country'],\n",
        "                               drop_first = drop_decision)\n",
        "\n",
        "\n",
        "dummy_market_segment = pd.get_dummies(d['market_segment'],\n",
        "                                      drop_first = drop_decision,\n",
        "                                      prefix = \"market_segment\")\n",
        "\n",
        "\n",
        "dummy_distribution_channel = pd.get_dummies(d['distribution_channel'],\n",
        "                                            drop_first = drop_decision,\n",
        "                                            prefix = \"distribution_channel\")\n",
        "\n",
        "dummy_deposit_type = pd.get_dummies(d['deposit_type'],\n",
        "                                       drop_first = drop_decision)\n",
        "\n",
        "dummy_customer_type = pd.get_dummies(d['customer_type'],\n",
        "                                       drop_first = drop_decision,\n",
        "                                     prefix = \"customer_type\")\n",
        "\n",
        "d_final = d.drop(['hotel', 'meal', 'country', 'market_segment', \n",
        "                  'distribution_channel','deposit_type',\n",
        "                  'customer_type'], axis = 1)\n",
        "d_final = pd.concat([d_final, dummy_hotel, dummy_meal, dummy_country,\n",
        "                     dummy_market_segment, dummy_distribution_channel,\n",
        "                     dummy_deposit_type, dummy_customer_type], axis=1)\n"
      ],
      "metadata": {
        "id": "XrmBryUznqHQ"
      },
      "execution_count": null,
      "outputs": []
    },
    {
      "cell_type": "markdown",
      "metadata": {
        "id": "9vqx7jiZAMko"
      },
      "source": [
        "## **1. Introduction**\n",
        "The purpose of this project is to construct a predictive model that is both accurate and reliable in understanding what aspects of a hotel booking, made by different customers, affect the likelihood of cancelations. The aim of the model is to be as accurate as possible whilst making sure that any incorrect predictions of no cancelations were minimised, as this would mean empty rooms and the hotel would lose money. Thus, we aim for a model that will lead to slightly overbooked hotels. \n",
        "\n",
        "We use data collected by [Antonio, Almeida and Nunes, 2019](https://www.sciencedirect.com/science/article/pii/S2352340918315191#f0010) that come from the booking systems of two real hotels and reflect bookings made between July 1st, 2015 through August 31st 2017. More speicifically, our data set contains 119,390 observations of 31 variables. After an initial refinement on the data we end up with a dataset of 21 features which can be seen below:\n",
        "\n",
        "|variable                       |description |\n",
        "|:------------------------------|:-----------|\n",
        "|is_canceled                    | Value indicating if the booking was canceled (1) or not (0) |\n",
        "|hotel                          | Hotel (`Resort Hotel` or `City Hotel`) |\n",
        "|lead_weeks                      | Number of weeks that elapsed between the entering date of the booking into the PMS and the arrival date |\n",
        "|arrival_date_week_number       | Week number of year for arrival date|\n",
        "|stays_nights        | Number of nights in a week the guest stayed or booked to stay at the hotel |\n",
        "|adults                         | Number of adults|\n",
        "|total_children                       | Number of children & Number of babies|\n",
        "|meal                           | Type of meal booked. Categories are presented in standard hospitality meal packages: <br> `Undefined`/`SC` – no meal package;<br>`BB` – Bed & Breakfast; <br> `HB` – Half board (breakfast and one other meal – usually dinner); <br> `FB` – Full board (breakfast, lunch and dinner) |\n",
        "|country                        | Country of origin. Categories are represented in the ISO 3155–3:2013 format |\n",
        "|market_segment                 | Market segment designation. In categories, the term `TA` means “Travel Agents” and `TO` means “Tour Operators” |\n",
        "|distribution_channel           | Booking distribution channel. The term `TA` means “Travel Agents” and `TO` means “Tour Operators” |\n",
        "|is_repeated_guest              | Value indicating if the booking name was from a repeated guest (`1`) or not (`0`) |\n",
        "|previous_cancellations         | Number of previous bookings that were cancelled by the customer prior to the current booking |\n",
        "|previous_bookings_not_canceled | Number of previous bookings not cancelled by the customer prior to the current booking |\n",
        "|room_type             | Value indicating if the reserved room is the same as the assigned |\n",
        "|booking_changes                | Number of changes/amendments made to the booking from the moment the booking was entered on the PMS until the moment of check-in or cancellation|\n",
        "|deposit_type                   | Indication on if the customer made a deposit to guarantee the booking. This variable can assume three categories:<br>`No Deposit` – no deposit was made;<br>`Non Refund` – a deposit was made in the value of the total stay cost;<br>`Refundable` – a deposit was made with a value under the total cost of stay. |\n",
        "|days_in_waiting_list           | Number of days the booking was in the waiting list before it was confirmed to the customer |\n",
        "|customer_type                  | Type of booking, assuming one of four categories:<br>`Contract` - when the booking has an allotment or other type of contract associated to it;<br>`Group` – when the booking is associated to a group;<br>`Transient` – when the booking is not part of a group or contract, and is not associated to other transient booking;<br>`Transient-party` – when the booking is transient, but is associated to at least other transient booking|\n",
        "|adr                            | Average Daily Rate as defined by dividing the sum of all lodging transactions by the total number of staying nights |\n",
        "|required_car_parking_spaces    | Number of car parking spaces required by the customer |\n",
        "\n"
      ]
    },
    {
      "cell_type": "markdown",
      "source": [
        "### **Executive Summary**\n",
        "\n",
        "We use a logistic regression model to predict the bookings' cancelations. This is done by performing an initial refinement on our dataset and using only variables thought to influence the number of cancelations. After calculating some metrics for our model we conclude that we have an **accurate model of $75\\%$** with a **$53\\%$ reliability** (precision: the proportion of truly predicting a cancelation compared to the sum of the overall prediction of cancelations). Our main focus though, was to be able to correctly predict a cancelation compared to the bookings which are actually canceled and we achieved that to a proportion close to **$78\\%$ (recall)**. \n",
        "\n",
        "We predicted features that are either positively or negatively associated with the number of cancelations. Features which influence the number of cancelations (i.e when a booking includes one of these features it is more likely to be canceled - from most to least likely) can be seen below:\n",
        "* **Room type**\n",
        "* **Country: Portugal**\n",
        "* **Lead weeks** - as the weeks from the booking date increase it is more likely to observe a cancelation\n",
        "* **Previous cancelations** - the greater the number of previous cancelations a client has, the more likely it is to cancel again in the future\n",
        "* **Customer type: Transient**\n",
        "* **Market segment: Online Travel Agent**\n",
        "* **Average Daily Rate** - when the rate is higher a cancelation is more likely\n",
        "\n",
        "On the other side, features of a booking that make it unlikely to be canceled when observed (following a similar order as before) include:\n",
        "\n",
        "* **Required car-parking spaces**\n",
        "* **Total of special requests** - as the special requests increase the less likely it is for a booking to be canceled\n",
        "* **Previous bookings not canceled** - the amount of previous bookings not canceled indicates a lower chance of future cancelation\n",
        "* **Market segment: Offline Travel Agent/Tour operator**\n",
        "* **Repeated Guest**\n",
        "* **Countries: Great Britain, Germany, France**\n",
        "* **Booking Changes** - more changes lead to a higher cancelation chance\n",
        "\n",
        "We aim to build an economically viable model that has more benefits over costs. We do this by focusing on what we find to be the most important aspect in our predictor through our performance analysis. "
      ],
      "metadata": {
        "id": "gluNWeknYuXT"
      }
    },
    {
      "cell_type": "markdown",
      "metadata": {
        "id": "bHGLlCmeAMkp"
      },
      "source": [
        "## **2. Exploratory Data Analysis and Feature Engineering**"
      ]
    },
    {
      "cell_type": "markdown",
      "source": [
        "###**2.1 Pre-processing**\n",
        "\n",
        "Initially, the dataset was checked for duplicates and missing values. It contained $32,252$ duplicates which were checked to figure out if these duplicates were associated with group bookings and thus, would make sense to leave them in our dataset. Of these $32,252$ duplicates only $30$ were associated with group bookings. We concluded that duplicates are associated to errors to the way the system processes the bookings. Therefore we dropped them to prevent overfitting and to have a more accurate final model for the predictions. The dataset had missing values for the following features:\n",
        "* `Children` - $4$ NAs\n",
        "* `Country` - $451$ NAs\n",
        "* `Agent` - $12,160$ NAs\n",
        "* `Company` - $81,890$ NAs \\\\\n",
        "\n",
        "We can see that the features `Agent` and `Company` had missing values that would result in our dataset reducing to $90\\%$ and $31\\%$ respectively if entries containing these missing values had been removed from it. This would lead to a less accurate model and incorrect predictions. These two features are also consisted of many categories, $333$ and $352$ respectively. Thus, we decided to drop them as it would be hard to draw any conclusions. Finally, we dropped entries containing the rest of the $455$ missing values; resulting in the new dataset being a $99.6\\%$ proportion of the initial. We also dropped the features `arrival_date_year`, because time is not a feature we can influence, and `arrival_date_month` because the information in this feature can also be seen in `arrival_date_week_number`. \n",
        "\n",
        "We also combined and modified certain variables as we thought this will make the analysis more comprehensive. These variables are seen below:\n",
        "* `Lead_weeks` = `Lead_time`/7\n",
        "* `Room` = Reserved room == Assigned room (checks if reserved room agrees with assigned room)`\n",
        "* `Total_Children` = `Children` + `Babies`\n",
        "* `Stays_in_Nights` = `Stays_in_week_nights` + `Stays_in_weekend_nights` \n",
        "\n",
        "\n",
        "\n",
        "\n"
      ],
      "metadata": {
        "id": "tmn1FdlcsyJj"
      }
    },
    {
      "cell_type": "markdown",
      "source": [
        "###**2.2 Descriptive statistics**\n",
        "We summarised descriptive statistics using histograms to remove any features or observations without a predictive behaviour on bookings' cancelations and also, observed a correlation heatmap for the features."
      ],
      "metadata": {
        "id": "Nd0nWN5Is703"
      }
    },
    {
      "cell_type": "markdown",
      "source": [
        "\n",
        "\n",
        "####**2.2.1 Histograms**\n",
        "As we observe the histograms, we conclude that the feature `arrival_date_day_of_month` is uniformly distributed and so won't have a predictive behaviour on number of cancelations. Thus, it is dropped from our dataset. Moreover, we spotted something very interesting about the feature `required_car_parking_spaces`. The vast majority of the bookings that required at least one car parking space did not canceled their bookings. This fact should not be ommited since there are over 7000 such cases. Thus, we can predict that this feature will play a crucial role, and will be very significant when used in our model."
      ],
      "metadata": {
        "id": "OIfEZll-saAa"
      }
    },
    {
      "cell_type": "code",
      "source": [
        "#@title Histograms\n",
        "fig, axes = plt.subplots(1, 2, figsize = (12,5))\n",
        "sns.histplot(ax = axes[0], x = d_day['arrival_date_day_of_month'],hue = d['is_canceled'], multiple=\"stack\",bins=31)\n",
        "axes[0].set_title('arrival date, day of month')\n",
        "\n",
        "sns.histplot(ax = axes[1], x = d['required_car_parking_spaces'],hue = d['is_canceled'], multiple=\"stack\")\n",
        "axes[1].set_xlim(-0.15,1.5)\n",
        "axes[1].set_title('required_car_parking_spaces')\n",
        "plt.show()"
      ],
      "metadata": {
        "colab": {
          "base_uri": "https://localhost:8080/",
          "height": 351
        },
        "id": "8SdSOR5rv8n5",
        "outputId": "feb8a5c2-21b0-4956-9688-055734002ef0",
        "cellView": "form"
      },
      "execution_count": null,
      "outputs": [
        {
          "output_type": "display_data",
          "data": {
            "text/plain": [
              "<Figure size 864x360 with 2 Axes>"
            ],
            "image/png": "[encoded data removed]"
          },
          "metadata": {
            "needs_background": "light"
          }
        }
      ]
    },
    {
      "cell_type": "markdown",
      "source": [
        "####**2.2.2 Correlation**\n",
        "Another reason we combined some and dropped some other of the previously mentioned features was to avoid having highly correlated features. As we can see on the correlation heatmap, the correlation is kept very low with the highest value being 0.43 for `is_repeated_guest` & `previous_bookings_not_canceled` but this value only indicates moderate correlation."
      ],
      "metadata": {
        "id": "1jgdT5g3sobn"
      }
    },
    {
      "cell_type": "code",
      "source": [
        "#@title Correlation\n",
        "# correlation heatmap of numerical variables\n",
        "sns.heatmap(df.corr(), vmin = -1, vmax = 1, annot=False)#, fmt='.2f', linewidths=2)\n",
        "plt.title(\"Correlation Heatmap\")\n",
        "plt.show()"
      ],
      "metadata": {
        "colab": {
          "base_uri": "https://localhost:8080/",
          "height": 435
        },
        "id": "uWhj4lOWtZUl",
        "outputId": "922358d0-946a-4494-fa5f-a5449d358b95"
      },
      "execution_count": null,
      "outputs": [
        {
          "output_type": "display_data",
          "data": {
            "text/plain": [
              "<Figure size 432x288 with 2 Axes>"
            ],
            "image/png": "[encoded data removed]"
          },
          "metadata": {
            "needs_background": "light"
          }
        }
      ]
    },
    {
      "cell_type": "markdown",
      "source": [
        "###**2.3 Processing**"
      ],
      "metadata": {
        "id": "fqZP0AkOtBYG"
      }
    },
    {
      "cell_type": "markdown",
      "metadata": {
        "id": "aYoHVeB7AMkq"
      },
      "source": [
        "The categorical features `hotel`, `meal`, `country`, `market_segment`, `distribution channel`,`deposit_type` and `customer type` needed special treatment to be used in our modelling. We utilised one-hot encoding for this purpose instead of label encoding, since these data are not ordinal. For example, when treating the `country` column, we have created multiple columns, one for each country registered. We also dropped one column of each feature as the outcome of one variable can easily be predicted with the help of the remaining variables. In this way we avoid the problem of multicollinearity, as we will use logistic regression to build our model. Below our final dataframe is shown which contains 210 columns created by the one hot encoding\n"
      ]
    },
    {
      "cell_type": "code",
      "source": [
        "#@title One-hot encoding\n",
        "\n",
        "drop_decision = True\n",
        "dummy_hotel = pd.get_dummies(d['hotel'],\n",
        "                             drop_first = drop_decision)\n",
        "\n",
        "dummy_meal = pd.get_dummies(d['meal'],\n",
        "                            drop_first = drop_decision,\n",
        "                            prefix = \"meal\")\n",
        "#Also make as one column SC and Undefined as in the instructions it means the same thing\n",
        "dummy_meal['meal_SC'] = dummy_meal['meal_SC'] + dummy_meal['meal_Undefined']\n",
        "dummy_meal = dummy_meal.drop(['meal_Undefined'], axis = 1)\n",
        "\n",
        "\n",
        "dummy_country = pd.get_dummies(d['country'],\n",
        "                               drop_first = drop_decision)\n",
        "\n",
        "\n",
        "dummy_market_segment = pd.get_dummies(d['market_segment'],\n",
        "                                      drop_first = drop_decision,\n",
        "                                      prefix = \"market_segment\")\n",
        "\n",
        "\n",
        "dummy_distribution_channel = pd.get_dummies(d['distribution_channel'],\n",
        "                                            drop_first = drop_decision,\n",
        "                                            prefix = \"distribution_channel\")\n",
        "\n",
        "dummy_deposit_type = pd.get_dummies(d['deposit_type'],\n",
        "                                       drop_first = drop_decision)\n",
        "\n",
        "dummy_customer_type = pd.get_dummies(d['customer_type'],\n",
        "                                       drop_first = drop_decision,\n",
        "                                     prefix = \"customer_type\")\n",
        "\n",
        "d_final = d.drop(['hotel', 'meal', 'country', 'market_segment', \n",
        "                  'distribution_channel','deposit_type',\n",
        "                  'customer_type'], axis = 1)\n",
        "d_final = pd.concat([d_final, dummy_hotel, dummy_meal, dummy_country,\n",
        "                     dummy_market_segment, dummy_distribution_channel,\n",
        "                     dummy_deposit_type, dummy_customer_type], axis=1)"
      ],
      "metadata": {
        "id": "nSJZseG5zXbI",
        "cellView": "form"
      },
      "execution_count": null,
      "outputs": []
    },
    {
      "cell_type": "code",
      "source": [
        "d_final.head()"
      ],
      "metadata": {
        "colab": {
          "base_uri": "https://localhost:8080/",
          "height": 317
        },
        "id": "UC8qKLoS5VDh",
        "outputId": "44b2ee5a-f6f9-4573-ea56-7611e5b971bd"
      },
      "execution_count": null,
      "outputs": [
        {
          "output_type": "execute_result",
          "data": {
            "text/plain": [
              "   is_canceled  arrival_date_week_number  adults  is_repeated_guest  \\\n",
              "0            0                        27       2                  0   \n",
              "1            0                        27       2                  0   \n",
              "2            0                        27       1                  0   \n",
              "3            0                        27       1                  0   \n",
              "4            0                        27       2                  0   \n",
              "\n",
              "   previous_cancellations  previous_bookings_not_canceled  booking_changes  \\\n",
              "0                       0                               0                3   \n",
              "1                       0                               0                4   \n",
              "2                       0                               0                0   \n",
              "3                       0                               0                0   \n",
              "4                       0                               0                0   \n",
              "\n",
              "   days_in_waiting_list   adr  required_car_parking_spaces  ...  \\\n",
              "0                     0   0.0                            0  ...   \n",
              "1                     0   0.0                            0  ...   \n",
              "2                     0  75.0                            0  ...   \n",
              "3                     0  75.0                            0  ...   \n",
              "4                     0  98.0                            0  ...   \n",
              "\n",
              "   market_segment_Online TA  distribution_channel_Direct  \\\n",
              "0                         0                            1   \n",
              "1                         0                            1   \n",
              "2                         0                            1   \n",
              "3                         0                            0   \n",
              "4                         1                            0   \n",
              "\n",
              "   distribution_channel_GDS  distribution_channel_TA/TO  \\\n",
              "0                         0                           0   \n",
              "1                         0                           0   \n",
              "2                         0                           0   \n",
              "3                         0                           0   \n",
              "4                         0                           1   \n",
              "\n",
              "   distribution_channel_Undefined  Non Refund  Refundable  \\\n",
              "0                               0           0           0   \n",
              "1                               0           0           0   \n",
              "2                               0           0           0   \n",
              "3                               0           0           0   \n",
              "4                               0           0           0   \n",
              "\n",
              "   customer_type_Group  customer_type_Transient  customer_type_Transient-Party  \n",
              "0                    0                        1                              0  \n",
              "1                    0                        1                              0  \n",
              "2                    0                        1                              0  \n",
              "3                    0                        1                              0  \n",
              "4                    0                        1                              0  \n",
              "\n",
              "[5 rows x 210 columns]"
            ],
            "text/html": [
              "\n",
              "  <div id=\"df-41b28de0-865f-4afc-9a20-f8812adfb1b6\">\n",
              "    <div class=\"colab-df-container\">\n",
              "      <div>\n",
              "<style scoped>\n",
              "    .dataframe tbody tr th:only-of-type {\n",
              "        vertical-align: middle;\n",
              "    }\n",
              "\n",
              "    .dataframe tbody tr th {\n",
              "        vertical-align: top;\n",
              "    }\n",
              "\n",
              "    .dataframe thead th {\n",
              "        text-align: right;\n",
              "    }\n",
              "</style>\n",
              "<table border=\"1\" class=\"dataframe\">\n",
              "  <thead>\n",
              "    <tr style=\"text-align: right;\">\n",
              "      <th></th>\n",
              "      <th>is_canceled</th>\n",
              "      <th>arrival_date_week_number</th>\n",
              "      <th>adults</th>\n",
              "      <th>is_repeated_guest</th>\n",
              "      <th>previous_cancellations</th>\n",
              "      <th>previous_bookings_not_canceled</th>\n",
              "      <th>booking_changes</th>\n",
              "      <th>days_in_waiting_list</th>\n",
              "      <th>adr</th>\n",
              "      <th>required_car_parking_spaces</th>\n",
              "      <th>...</th>\n",
              "      <th>market_segment_Online TA</th>\n",
              "      <th>distribution_channel_Direct</th>\n",
              "      <th>distribution_channel_GDS</th>\n",
              "      <th>distribution_channel_TA/TO</th>\n",
              "      <th>distribution_channel_Undefined</th>\n",
              "      <th>Non Refund</th>\n",
              "      <th>Refundable</th>\n",
              "      <th>customer_type_Group</th>\n",
              "      <th>customer_type_Transient</th>\n",
              "      <th>customer_type_Transient-Party</th>\n",
              "    </tr>\n",
              "  </thead>\n",
              "  <tbody>\n",
              "    <tr>\n",
              "      <th>0</th>\n",
              "      <td>0</td>\n",
              "      <td>27</td>\n",
              "      <td>2</td>\n",
              "      <td>0</td>\n",
              "      <td>0</td>\n",
              "      <td>0</td>\n",
              "      <td>3</td>\n",
              "      <td>0</td>\n",
              "      <td>0.0</td>\n",
              "      <td>0</td>\n",
              "      <td>...</td>\n",
              "      <td>0</td>\n",
              "      <td>1</td>\n",
              "      <td>0</td>\n",
              "      <td>0</td>\n",
              "      <td>0</td>\n",
              "      <td>0</td>\n",
              "      <td>0</td>\n",
              "      <td>0</td>\n",
              "      <td>1</td>\n",
              "      <td>0</td>\n",
              "    </tr>\n",
              "    <tr>\n",
              "      <th>1</th>\n",
              "      <td>0</td>\n",
              "      <td>27</td>\n",
              "      <td>2</td>\n",
              "      <td>0</td>\n",
              "      <td>0</td>\n",
              "      <td>0</td>\n",
              "      <td>4</td>\n",
              "      <td>0</td>\n",
              "      <td>0.0</td>\n",
              "      <td>0</td>\n",
              "      <td>...</td>\n",
              "      <td>0</td>\n",
              "      <td>1</td>\n",
              "      <td>0</td>\n",
              "      <td>0</td>\n",
              "      <td>0</td>\n",
              "      <td>0</td>\n",
              "      <td>0</td>\n",
              "      <td>0</td>\n",
              "      <td>1</td>\n",
              "      <td>0</td>\n",
              "    </tr>\n",
              "    <tr>\n",
              "      <th>2</th>\n",
              "      <td>0</td>\n",
              "      <td>27</td>\n",
              "      <td>1</td>\n",
              "      <td>0</td>\n",
              "      <td>0</td>\n",
              "      <td>0</td>\n",
              "      <td>0</td>\n",
              "      <td>0</td>\n",
              "      <td>75.0</td>\n",
              "      <td>0</td>\n",
              "      <td>...</td>\n",
              "      <td>0</td>\n",
              "      <td>1</td>\n",
              "      <td>0</td>\n",
              "      <td>0</td>\n",
              "      <td>0</td>\n",
              "      <td>0</td>\n",
              "      <td>0</td>\n",
              "      <td>0</td>\n",
              "      <td>1</td>\n",
              "      <td>0</td>\n",
              "    </tr>\n",
              "    <tr>\n",
              "      <th>3</th>\n",
              "      <td>0</td>\n",
              "      <td>27</td>\n",
              "      <td>1</td>\n",
              "      <td>0</td>\n",
              "      <td>0</td>\n",
              "      <td>0</td>\n",
              "      <td>0</td>\n",
              "      <td>0</td>\n",
              "      <td>75.0</td>\n",
              "      <td>0</td>\n",
              "      <td>...</td>\n",
              "      <td>0</td>\n",
              "      <td>0</td>\n",
              "      <td>0</td>\n",
              "      <td>0</td>\n",
              "      <td>0</td>\n",
              "      <td>0</td>\n",
              "      <td>0</td>\n",
              "      <td>0</td>\n",
              "      <td>1</td>\n",
              "      <td>0</td>\n",
              "    </tr>\n",
              "    <tr>\n",
              "      <th>4</th>\n",
              "      <td>0</td>\n",
              "      <td>27</td>\n",
              "      <td>2</td>\n",
              "      <td>0</td>\n",
              "      <td>0</td>\n",
              "      <td>0</td>\n",
              "      <td>0</td>\n",
              "      <td>0</td>\n",
              "      <td>98.0</td>\n",
              "      <td>0</td>\n",
              "      <td>...</td>\n",
              "      <td>1</td>\n",
              "      <td>0</td>\n",
              "      <td>0</td>\n",
              "      <td>1</td>\n",
              "      <td>0</td>\n",
              "      <td>0</td>\n",
              "      <td>0</td>\n",
              "      <td>0</td>\n",
              "      <td>1</td>\n",
              "      <td>0</td>\n",
              "    </tr>\n",
              "  </tbody>\n",
              "</table>\n",
              "<p>5 rows × 210 columns</p>\n",
              "</div>\n",
              "      <button class=\"colab-df-convert\" onclick=\"convertToInteractive('df-41b28de0-865f-4afc-9a20-f8812adfb1b6')\"\n",
              "              title=\"Convert this dataframe to an interactive table.\"\n",
              "              style=\"display:none;\">\n",
              "        \n",
              "  <svg xmlns=\"http://www.w3.org/2000/svg\" height=\"24px\"viewBox=\"0 0 24 24\"\n",
              "       width=\"24px\">\n",
              "    <path d=\"M0 0h24v24H0V0z\" fill=\"none\"/>\n",
              "    <path d=\"M18.56 5.44l.94 2.06.94-2.06 2.06-.94-2.06-.94-.94-2.06-.94 2.06-2.06.94zm-11 1L8.5 8.5l.94-2.06 2.06-.94-2.06-.94L8.5 2.5l-.94 2.06-2.06.94zm10 10l.94 2.06.94-2.06 2.06-.94-2.06-.94-.94-2.06-.94 2.06-2.06.94z\"/><path d=\"M17.41 7.96l-1.37-1.37c-.4-.4-.92-.59-1.43-.59-.52 0-1.04.2-1.43.59L10.3 9.45l-7.72 7.72c-.78.78-.78 2.05 0 2.83L4 21.41c.39.39.9.59 1.41.59.51 0 1.02-.2 1.41-.59l7.78-7.78 2.81-2.81c.8-.78.8-2.07 0-2.86zM5.41 20L4 18.59l7.72-7.72 1.47 1.35L5.41 20z\"/>\n",
              "  </svg>\n",
              "      </button>\n",
              "      \n",
              "  <style>\n",
              "    .colab-df-container {\n",
              "      display:flex;\n",
              "      flex-wrap:wrap;\n",
              "      gap: 12px;\n",
              "    }\n",
              "\n",
              "    .colab-df-convert {\n",
              "      background-color: #E8F0FE;\n",
              "      border: none;\n",
              "      border-radius: 50%;\n",
              "      cursor: pointer;\n",
              "      display: none;\n",
              "      fill: #1967D2;\n",
              "      height: 32px;\n",
              "      padding: 0 0 0 0;\n",
              "      width: 32px;\n",
              "    }\n",
              "\n",
              "    .colab-df-convert:hover {\n",
              "      background-color: #E2EBFA;\n",
              "      box-shadow: 0px 1px 2px rgba(60, 64, 67, 0.3), 0px 1px 3px 1px rgba(60, 64, 67, 0.15);\n",
              "      fill: #174EA6;\n",
              "    }\n",
              "\n",
              "    [theme=dark] .colab-df-convert {\n",
              "      background-color: #3B4455;\n",
              "      fill: #D2E3FC;\n",
              "    }\n",
              "\n",
              "    [theme=dark] .colab-df-convert:hover {\n",
              "      background-color: #434B5C;\n",
              "      box-shadow: 0px 1px 3px 1px rgba(0, 0, 0, 0.15);\n",
              "      filter: drop-shadow(0px 1px 2px rgba(0, 0, 0, 0.3));\n",
              "      fill: #FFFFFF;\n",
              "    }\n",
              "  </style>\n",
              "\n",
              "      <script>\n",
              "        const buttonEl =\n",
              "          document.querySelector('#df-41b28de0-865f-4afc-9a20-f8812adfb1b6 button.colab-df-convert');\n",
              "        buttonEl.style.display =\n",
              "          google.colab.kernel.accessAllowed ? 'block' : 'none';\n",
              "\n",
              "        async function convertToInteractive(key) {\n",
              "          const element = document.querySelector('#df-41b28de0-865f-4afc-9a20-f8812adfb1b6');\n",
              "          const dataTable =\n",
              "            await google.colab.kernel.invokeFunction('convertToInteractive',\n",
              "                                                     [key], {});\n",
              "          if (!dataTable) return;\n",
              "\n",
              "          const docLinkHtml = 'Like what you see? Visit the ' +\n",
              "            '<a target=\"_blank\" href=https://colab.research.google.com/notebooks/data_table.ipynb>data table notebook</a>'\n",
              "            + ' to learn more about interactive tables.';\n",
              "          element.innerHTML = '';\n",
              "          dataTable['output_type'] = 'display_data';\n",
              "          await google.colab.output.renderOutput(dataTable, element);\n",
              "          const docLink = document.createElement('div');\n",
              "          docLink.innerHTML = docLinkHtml;\n",
              "          element.appendChild(docLink);\n",
              "        }\n",
              "      </script>\n",
              "    </div>\n",
              "  </div>\n",
              "  "
            ]
          },
          "metadata": {},
          "execution_count": 12
        }
      ]
    },
    {
      "cell_type": "markdown",
      "metadata": {
        "id": "Fc1mn2d1AMkr"
      },
      "source": [
        "## **3. Model Fitting and Tuning**"
      ]
    },
    {
      "cell_type": "markdown",
      "source": [
        "After exploring the dataset, which includes a lot of features which are mainly categorical data, we decided to try and use *Support Vector Classification* and *Support Vector Machines*, as well as *Logistic Regression*. For *SVC* and *SVM* we realised that these methods are not suitable for our large dataset, whilst *Logistic Regression* performed better and it is a method more suited for larger datasets. As a result, we've used *Logistic Regression* as our final predictive model. \n"
      ],
      "metadata": {
        "id": "d8bzzIfiyUEZ"
      }
    },
    {
      "cell_type": "markdown",
      "source": [
        "###**Logistic regression**\n",
        "\n",
        "Logistic regression is able to deal with categorial data as well as to handle big data sets. In the first step, we splitted our data into a test data set and train data set ($10\\%$ to $90\\%$ as we have a big data set) where we ensured that the ratio of `is_canceled` is kept as this is what we want to predict. The ratio of booking being canceled compared to it not being canceled is $27.38\\%$ to $72.62\\%$. \n",
        "The first step was to run a logistic regression model on the final data set with the one-hot encoded variables but the features were not standartised yet. The mean accuracy is $0.78$, the $\\text{MSE}$ is $0.22$ and $\\text{AUC} = 0.68$. Based on these values the model seems to perform well but we need more information about what kind of mistakes the model does and need to improve the model to minimise the wrong prediction of not-cancelations as this is what hotels want, to avoid empty rooms. Therefore we look at different types of errors in the following."
      ],
      "metadata": {
        "id": "nxV_xj8l1W5R"
      }
    },
    {
      "cell_type": "code",
      "source": [
        "#@title\n",
        "# Feature matrix and response separation \n",
        "data_x, data_y = d_final.drop(['is_canceled'], axis=1), d_final['is_canceled']\n",
        "X_train, X_test, y_train, y_test = train_test_split(data_x.values, data_y.values, stratify = data_y, \n",
        "                                                    test_size = 0.1, random_state=42)\n",
        "# TO CHECK: The same proportion is satisfied for both train and test data sets \n",
        "print(pd.Series(y_train).value_counts(normalize=True)*100)\n",
        "print(pd.Series(y_test).value_counts(normalize=True)*100)\n",
        "\n",
        "#Converting the response variable \n",
        "LE = LabelEncoder()\n",
        "y_train = LE.fit_transform(y_train)\n",
        "y_test = LE.transform(y_test)\n",
        "\n",
        "#Use \"basic\" LogisticRegression \n",
        "logfit = LogisticRegression(random_state=42, penalty=\"none\").fit(X_train, y_train)\n",
        "\n",
        "print(\"MSE of the fitted model:\", mean_squared_error(y_test, logfit.predict(X_test)))\n",
        "print(\"Accuracy of the fitted model:\", accuracy_score(y_test, logfit.predict(X_test)))\n",
        "print(\"AUC of the fitted model:\", roc_auc_score(y_test, logfit.predict(X_test)))"
      ],
      "metadata": {
        "colab": {
          "base_uri": "https://localhost:8080/"
        },
        "id": "R4rJ-T6inK5J",
        "outputId": "11b387a5-e374-4fee-989c-44104f50af19"
      },
      "execution_count": null,
      "outputs": [
        {
          "output_type": "stream",
          "name": "stdout",
          "text": [
            "0    72.624144\n",
            "1    27.375856\n",
            "dtype: float64\n",
            "0    72.626601\n",
            "1    27.373399\n",
            "dtype: float64\n",
            "MSE of the fitted model: 0.21640327604106588\n",
            "Accuracy of the fitted model: 0.7835967239589341\n",
            "AUC of the fitted model: 0.6840178661787548\n"
          ]
        }
      ]
    },
    {
      "cell_type": "code",
      "source": [
        "#@title Helper functions\n",
        "#HELPER FUNCTIONS \n",
        "\n",
        "# tidy the output into a dataframe\n",
        "def tidy_scores(score_dict):\n",
        "    df = pd.DataFrame(score_dict)\n",
        "    df.loc['mean'] = df.mean()\n",
        "    df.loc['sd'] = df.std()\n",
        "    df.rename({\"test_score\":\"val_score\"}, axis=1, inplace=True)\n",
        "    df.index.name = \"fold\"\n",
        "    return df.round(2)\n",
        "\n",
        "# Function created for better and more informative confusion matrices\n",
        "def plot_conf_matrices(actual, predicted, title = None):\n",
        "  conf_mat = confusion_matrix(actual, predicted) \n",
        "  ax= plt.subplot()\n",
        "  names = ['True Negative (TN):','False Positive (FP):','False Negative (FN):','True Positive (TP):']\n",
        "  counts = [\"{0:0.0f}\".format(i) for i in conf_mat.flatten()]\n",
        "  percentages = [\"{0:.2%}\".format(i) for i in conf_mat.flatten()/np.sum(conf_mat)]\n",
        "  labels = [f\"{v1}\\n{v2}\\n{v3}\" for v1, v2, v3 in zip(names, counts, percentages)]\n",
        "  labels_array = np.asarray(labels).reshape(2,2)\n",
        "  sns.heatmap(conf_mat, annot=labels_array, fmt='', cmap='RdPu')\n",
        "  ax.xaxis.set_ticklabels(['No Cancellation Predicted', 'Cancellation predicted'])\n",
        "  ax.yaxis.set_ticklabels(['No Cancellation', 'Cancellation'])\n",
        "  plt.title(title)\n",
        "  plt.show()\n",
        "\n"
      ],
      "metadata": {
        "id": "zOk4MjcpoFKG"
      },
      "execution_count": null,
      "outputs": []
    },
    {
      "cell_type": "markdown",
      "source": [
        "###**Confusion matrix and error types**"
      ],
      "metadata": {
        "id": "2NVOHhkKENmb"
      }
    },
    {
      "cell_type": "code",
      "source": [
        "#@title\n",
        "from sklearn.metrics import confusion_matrix\n",
        "\n",
        "log_pipe = Pipeline([\n",
        "        (\"scaler\", StandardScaler()),\n",
        "        (\"model\", logfit)])\n",
        "       # (\"model\", LogisticRegression(random_state=42, penalty = \"none\"))])\n",
        "\n",
        "log_pipe.fit(X_train, y_train)\n",
        "\n",
        "predictions = log_pipe.predict(X_test)\n",
        "\n",
        "# get the confusion matrix as a numpy array\n",
        "#confmat = confusion_matrix(y_true=y_val, y_pred=predictions)\n",
        "confmat = confusion_matrix(y_true = y_test, y_pred=predictions, normalize ='all')\n",
        "\n",
        "# Extracting the quantities from the confusion matrix \n",
        "FP = confmat[0,1]\n",
        "TN = confmat[0,0]\n",
        "TP = confmat[1,1]\n",
        "FN = confmat[1,0]\n",
        "\n",
        "#Calculation of FPR, Recall, Precision, F1 Score and Accuracy\n",
        "# FPR\n",
        "FPR = (FP)/(FP+TN)\n",
        "# Recall\n",
        "Recall = (TP)/(TP+FN)\n",
        "# Precision\n",
        "Precision = (TP)/(FP+TP)\n",
        "# F1 Score\n",
        "F1 = f1_score(y_true=y_test, y_pred=predictions)\n",
        "#Accuracy\n",
        "Accuracy = (TN+TP)/(TN+TP+FN+FP)\n",
        "\n",
        "plot_conf_matrices(y_test, predictions)\n",
        "print('False Positive Rate (FPR): '+ '%.3f' % FPR)\n",
        "print('Recall: '+ '%.3f' % Recall)\n",
        "print('Precision: '+ '%.3f' % Precision)\n",
        "print('F1 Score: '+ '%.3f' % F1)\n",
        "print('Accuracy: '+ '%.3f' % Accuracy)"
      ],
      "metadata": {
        "colab": {
          "base_uri": "https://localhost:8080/",
          "height": 352
        },
        "id": "Ez7a1WlJoagC",
        "outputId": "4b3efa51-4f5c-476b-e8d4-e30ced41f61c",
        "cellView": "form"
      },
      "execution_count": null,
      "outputs": [
        {
          "output_type": "display_data",
          "data": {
            "text/plain": [
              "<Figure size 432x288 with 2 Axes>"
            ],
            "image/png": "[encoded data removed]"
          },
          "metadata": {
            "needs_background": "light"
          }
        },
        {
          "output_type": "stream",
          "name": "stdout",
          "text": [
            "False Positive Rate (FPR): 0.093\n",
            "Recall: 0.487\n",
            "Precision: 0.663\n",
            "F1 Score: 0.561\n",
            "Accuracy: 0.792\n"
          ]
        }
      ]
    },
    {
      "cell_type": "markdown",
      "source": [
        "The confusion matrix shows how the error splits in the differerent types:\n",
        "*  $\\text{TN}$ - correct prediction of no cancelation\n",
        "*  $\\text{FP}$ - model predicts cancelation but booking is not canceled\n",
        "*  $\\text{FN}$ - model predicts no cancelation but booking is canceled\n",
        "*  $\\text{TP}$ - correct prediction of cancelation\n",
        "\n",
        "From the confusion matrix we can see that if the model makes mistakes it's around twice as likely that it will predict no cancelation but the booking will actually be canceled. This is, as already mentioned above, what we want to avoid. Looking at additional quantites, gives us even more insight on the performance of our model (*MLP workshop 7*). \n",
        "\n",
        "$$\n",
        "\\text{FPR} = \\frac{\\text{FP}}{\\text{FP}+ \\text{TN}}\n",
        "$$\n",
        "\n",
        "$$\n",
        "\\text{Recall} = \\frac{\\text{TP}}{\\text{TP}+ \\text{FN}}\n",
        "$$\n",
        "\n",
        "$$\n",
        "\\text{Precision} = \\frac{\\text{TP}}{\\text{TP}+ \\text{FP}}\n",
        "$$\n",
        "\n",
        "$$\n",
        "F1 = 2\\left(\\frac{Precision \\times Recall}{Precision + Recall}\\right)\n",
        "$$\n",
        "The false positive rate ($\\text{FPR}$) tells us that it's unlikely ($9\\%$) that the model predicts no cancelation, even if the booking in canceled. $\\text{Recall}$ shows that it is likely ($49\\%$) that the model will predict a cancelation without the booking being canceled. The precision gives a measurement of how many predicted cancelations were actual cancelations, a precision of $66\\%$ is reasonable for our case, as this would lead to overbooking and this is less of a problem than \"under\"booking. The $F1$-value takes an uneven class distribution into account, $56\\%$ is at this point just a number which we will compare to the $F1$ value of our final model. All these measurements give us a clearer understanding where our model needs improvement, e.g. we want $\\text{Recall}$ to increase as we want to minimise $\\text{FN}$.\n"
      ],
      "metadata": {
        "id": "sjOMGZIOCQev"
      }
    },
    {
      "cell_type": "markdown",
      "source": [
        "###**Grid Search**"
      ],
      "metadata": {
        "id": "KtUXtHOQEaXs"
      }
    },
    {
      "cell_type": "code",
      "source": [
        "#@title\n",
        "# Example for n_splits = 5 below\n",
        "# This is about just observing why StratifiedKFold is more suitable and we will use that function below \n",
        "# in the RandomizedSearchCV() function\n",
        "from sklearn.model_selection import GridSearchCV, RandomizedSearchCV, KFold, StratifiedKFold\n",
        "\n",
        "KF = KFold(n_splits=5)\n",
        "SKF = StratifiedKFold(n_splits=5)\n",
        "\n",
        "fold_names = [\"KFold\", \"StratifiedKFold\"]\n",
        "for i, K in enumerate([KF, SKF]):\n",
        "    for j, (train_i, test_i) in enumerate(K.split(X_train, y_train)):\n",
        "        fold_no = pd.DataFrame(pd.Series(y_train[test_i]).value_counts(), columns=[\"Fold \"+str(j)])\n",
        "        if j == 0:\n",
        "            fold_nos = fold_no\n",
        "        else:\n",
        "            fold_nos = pd.concat([fold_nos,fold_no], axis=1)\n",
        "    print(fold_names[i])    \n",
        "    print(fold_nos)"
      ],
      "metadata": {
        "colab": {
          "base_uri": "https://localhost:8080/"
        },
        "id": "wsnauKXIpEJn",
        "outputId": "16a4d81f-56f5-4a45-d1e8-a4f3887cdbe8"
      },
      "execution_count": null,
      "outputs": [
        {
          "output_type": "stream",
          "name": "stdout",
          "text": [
            "KFold\n",
            "   Fold 0  Fold 1  Fold 2  Fold 3  Fold 4\n",
            "0   11292   11349   11336   11378   11302\n",
            "1    4311    4254    4267    4225    4300\n",
            "StratifiedKFold\n",
            "   Fold 0  Fold 1  Fold 2  Fold 3  Fold 4\n",
            "0   11332   11332   11331   11331   11331\n",
            "1    4271    4271    4272    4272    4271\n"
          ]
        }
      ]
    },
    {
      "cell_type": "markdown",
      "source": [
        "Before looking into improving the model, we wanted to check whereas to use KFold or StratifiedKFold. Both methods split the training data in (in our case) 5 folds. This is useful to minimise the workload in the gridsearch algorithm used in the following section. Rather than running the model for the whole dataset for different parameters and validate it, we use 4 folds to train the data and validate it on the last remaining fold. This is done for every possible comibnation, such that each fold is the validation set once. This process is also called cross validation (*source https://scikit-learn.org/stable/modules/cross_validation.html*).\n",
        "\n",
        "When we compare the two folding methods, we can see that for the stratified folding the numbers in each category as well as the ratios remain constant for the different folds, while for the standard folding, the acutal numbers change as well as the ratios. As we want to make sure that the ratio is constant when we model the data, we will use the stratified folding method in the following.\n",
        "\n"
      ],
      "metadata": {
        "id": "hC3W6eO4bykj"
      }
    },
    {
      "cell_type": "markdown",
      "source": [
        "The model we base our improvments on is logistic regression, but on a standardised dataset. We also decided to use ``saga`` as solver as this is more suitable for larger datasets (*source https://scikit-learn.org/stable/modules/generated/sklearn.linear_model.LogisticRegression.html*). We can influence the models performance by a regularsation parameter $C$, we used the sklearn inbuild function ``RandomizedSearchCV`` to find the best $C$. Therefore, we sample $C$ from a log-uniform distribution between $0.03125$ and $32768$ and build models using cross validation. To evaluate the performance of the different models using different $C$ values, we calculate accuracy, recall, precision and F1. This will be done for every fold and will also calculate the mean and the standard deviation of these values. By ``refit``, we can define a measurement (in this case accuracy) on which the model will be refitted using the whole dataset using the best value for the given measurement\n",
        "(*source https://scikit-learn.org/stable/modules/generated/sklearn.model_selection.GridSearchCV.html*)."
      ],
      "metadata": {
        "id": "kkgxdN9m9Bc8"
      }
    },
    {
      "cell_type": "code",
      "source": [
        "#@title\n",
        "from scipy.stats.distributions import uniform, loguniform\n",
        "\n",
        "c= 0.1\n",
        "\n",
        "log_pipe = Pipeline([\n",
        "            (\"scaler\", StandardScaler()),\n",
        "            (\"model\", LogisticRegression(C = c,fit_intercept=True, random_state=42, solver = \"saga\"))])\n",
        "\n",
        "C_list = []\n",
        "pwr = -5\n",
        "for i in range(11):\n",
        "    C_list.append(2**pwr)\n",
        "    pwr+=2\n",
        "    \n",
        "# specify parameters and distributions to sample from\n",
        "log_param_dist = {'model__C':loguniform(C_list[0], C_list[-1])}\n",
        "\n",
        "log_rs = RandomizedSearchCV(log_pipe, \n",
        "                            param_distributions = log_param_dist, \n",
        "                            scoring = [\"accuracy\", \"f1\",\"recall\",\"precision\"], \n",
        "                            cv = StratifiedKFold(n_splits=5),\n",
        "                            refit = \"accuracy\", \n",
        "                            random_state = 42,\n",
        "                            return_train_score = True)\n",
        "\n",
        "log_rs.fit(X_train, y_train)"
      ],
      "metadata": {
        "id": "OuWNmNympILy"
      },
      "execution_count": null,
      "outputs": []
    },
    {
      "cell_type": "code",
      "source": [
        "#@title\n",
        "#summary of the models \n",
        "\n",
        "log_rs_df = pd.DataFrame(log_rs.cv_results_)\n",
        "log_rs_df.sort_values(\"mean_test_accuracy\", ascending=False)[[\"param_model__C\",\n",
        "                                                           \"mean_test_accuracy\", \n",
        "                                                           \"mean_test_recall\",\n",
        "                                                           \"mean_test_precision\",\n",
        "                                                           \"mean_test_f1\"]].head()\n"
      ],
      "metadata": {
        "colab": {
          "base_uri": "https://localhost:8080/",
          "height": 206
        },
        "id": "s6MjjA_0pY6g",
        "outputId": "91f8f6b9-ede1-43d9-e8ff-b1daaa01abc9"
      },
      "execution_count": null,
      "outputs": [
        {
          "output_type": "execute_result",
          "data": {
            "text/plain": [
              "  param_model__C  mean_test_accuracy  mean_test_recall  mean_test_precision  \\\n",
              "0       5.620905            0.797600          0.488224             0.682116   \n",
              "1   16547.046693            0.797588          0.488224             0.682071   \n",
              "2     797.797524            0.797588          0.488224             0.682071   \n",
              "3     125.641537            0.797588          0.488224             0.682071   \n",
              "7     5125.66301            0.797588          0.488224             0.682071   \n",
              "\n",
              "   mean_test_f1  \n",
              "0      0.569077  \n",
              "1      0.569062  \n",
              "2      0.569062  \n",
              "3      0.569062  \n",
              "7      0.569062  "
            ],
            "text/html": [
              "\n",
              "  <div id=\"df-71219421-f3ef-4a9a-aab1-f58b1d0de0af\">\n",
              "    <div class=\"colab-df-container\">\n",
              "      <div>\n",
              "<style scoped>\n",
              "    .dataframe tbody tr th:only-of-type {\n",
              "        vertical-align: middle;\n",
              "    }\n",
              "\n",
              "    .dataframe tbody tr th {\n",
              "        vertical-align: top;\n",
              "    }\n",
              "\n",
              "    .dataframe thead th {\n",
              "        text-align: right;\n",
              "    }\n",
              "</style>\n",
              "<table border=\"1\" class=\"dataframe\">\n",
              "  <thead>\n",
              "    <tr style=\"text-align: right;\">\n",
              "      <th></th>\n",
              "      <th>param_model__C</th>\n",
              "      <th>mean_test_accuracy</th>\n",
              "      <th>mean_test_recall</th>\n",
              "      <th>mean_test_precision</th>\n",
              "      <th>mean_test_f1</th>\n",
              "    </tr>\n",
              "  </thead>\n",
              "  <tbody>\n",
              "    <tr>\n",
              "      <th>0</th>\n",
              "      <td>5.620905</td>\n",
              "      <td>0.797600</td>\n",
              "      <td>0.488224</td>\n",
              "      <td>0.682116</td>\n",
              "      <td>0.569077</td>\n",
              "    </tr>\n",
              "    <tr>\n",
              "      <th>1</th>\n",
              "      <td>16547.046693</td>\n",
              "      <td>0.797588</td>\n",
              "      <td>0.488224</td>\n",
              "      <td>0.682071</td>\n",
              "      <td>0.569062</td>\n",
              "    </tr>\n",
              "    <tr>\n",
              "      <th>2</th>\n",
              "      <td>797.797524</td>\n",
              "      <td>0.797588</td>\n",
              "      <td>0.488224</td>\n",
              "      <td>0.682071</td>\n",
              "      <td>0.569062</td>\n",
              "    </tr>\n",
              "    <tr>\n",
              "      <th>3</th>\n",
              "      <td>125.641537</td>\n",
              "      <td>0.797588</td>\n",
              "      <td>0.488224</td>\n",
              "      <td>0.682071</td>\n",
              "      <td>0.569062</td>\n",
              "    </tr>\n",
              "    <tr>\n",
              "      <th>7</th>\n",
              "      <td>5125.66301</td>\n",
              "      <td>0.797588</td>\n",
              "      <td>0.488224</td>\n",
              "      <td>0.682071</td>\n",
              "      <td>0.569062</td>\n",
              "    </tr>\n",
              "  </tbody>\n",
              "</table>\n",
              "</div>\n",
              "      <button class=\"colab-df-convert\" onclick=\"convertToInteractive('df-71219421-f3ef-4a9a-aab1-f58b1d0de0af')\"\n",
              "              title=\"Convert this dataframe to an interactive table.\"\n",
              "              style=\"display:none;\">\n",
              "        \n",
              "  <svg xmlns=\"http://www.w3.org/2000/svg\" height=\"24px\"viewBox=\"0 0 24 24\"\n",
              "       width=\"24px\">\n",
              "    <path d=\"M0 0h24v24H0V0z\" fill=\"none\"/>\n",
              "    <path d=\"M18.56 5.44l.94 2.06.94-2.06 2.06-.94-2.06-.94-.94-2.06-.94 2.06-2.06.94zm-11 1L8.5 8.5l.94-2.06 2.06-.94-2.06-.94L8.5 2.5l-.94 2.06-2.06.94zm10 10l.94 2.06.94-2.06 2.06-.94-2.06-.94-.94-2.06-.94 2.06-2.06.94z\"/><path d=\"M17.41 7.96l-1.37-1.37c-.4-.4-.92-.59-1.43-.59-.52 0-1.04.2-1.43.59L10.3 9.45l-7.72 7.72c-.78.78-.78 2.05 0 2.83L4 21.41c.39.39.9.59 1.41.59.51 0 1.02-.2 1.41-.59l7.78-7.78 2.81-2.81c.8-.78.8-2.07 0-2.86zM5.41 20L4 18.59l7.72-7.72 1.47 1.35L5.41 20z\"/>\n",
              "  </svg>\n",
              "      </button>\n",
              "      \n",
              "  <style>\n",
              "    .colab-df-container {\n",
              "      display:flex;\n",
              "      flex-wrap:wrap;\n",
              "      gap: 12px;\n",
              "    }\n",
              "\n",
              "    .colab-df-convert {\n",
              "      background-color: #E8F0FE;\n",
              "      border: none;\n",
              "      border-radius: 50%;\n",
              "      cursor: pointer;\n",
              "      display: none;\n",
              "      fill: #1967D2;\n",
              "      height: 32px;\n",
              "      padding: 0 0 0 0;\n",
              "      width: 32px;\n",
              "    }\n",
              "\n",
              "    .colab-df-convert:hover {\n",
              "      background-color: #E2EBFA;\n",
              "      box-shadow: 0px 1px 2px rgba(60, 64, 67, 0.3), 0px 1px 3px 1px rgba(60, 64, 67, 0.15);\n",
              "      fill: #174EA6;\n",
              "    }\n",
              "\n",
              "    [theme=dark] .colab-df-convert {\n",
              "      background-color: #3B4455;\n",
              "      fill: #D2E3FC;\n",
              "    }\n",
              "\n",
              "    [theme=dark] .colab-df-convert:hover {\n",
              "      background-color: #434B5C;\n",
              "      box-shadow: 0px 1px 3px 1px rgba(0, 0, 0, 0.15);\n",
              "      filter: drop-shadow(0px 1px 2px rgba(0, 0, 0, 0.3));\n",
              "      fill: #FFFFFF;\n",
              "    }\n",
              "  </style>\n",
              "\n",
              "      <script>\n",
              "        const buttonEl =\n",
              "          document.querySelector('#df-71219421-f3ef-4a9a-aab1-f58b1d0de0af button.colab-df-convert');\n",
              "        buttonEl.style.display =\n",
              "          google.colab.kernel.accessAllowed ? 'block' : 'none';\n",
              "\n",
              "        async function convertToInteractive(key) {\n",
              "          const element = document.querySelector('#df-71219421-f3ef-4a9a-aab1-f58b1d0de0af');\n",
              "          const dataTable =\n",
              "            await google.colab.kernel.invokeFunction('convertToInteractive',\n",
              "                                                     [key], {});\n",
              "          if (!dataTable) return;\n",
              "\n",
              "          const docLinkHtml = 'Like what you see? Visit the ' +\n",
              "            '<a target=\"_blank\" href=https://colab.research.google.com/notebooks/data_table.ipynb>data table notebook</a>'\n",
              "            + ' to learn more about interactive tables.';\n",
              "          element.innerHTML = '';\n",
              "          dataTable['output_type'] = 'display_data';\n",
              "          await google.colab.output.renderOutput(dataTable, element);\n",
              "          const docLink = document.createElement('div');\n",
              "          docLink.innerHTML = docLinkHtml;\n",
              "          element.appendChild(docLink);\n",
              "        }\n",
              "      </script>\n",
              "    </div>\n",
              "  </div>\n",
              "  "
            ]
          },
          "metadata": {},
          "execution_count": 18
        }
      ]
    },
    {
      "cell_type": "markdown",
      "source": [
        "In the table above, we see the results of the grid search alogorithm, where it searched a range of $C$ values. We can see that the mean accuracy stays constant at  $\\sim 79\\%$, and we also see that recall and F1 also didn't change significantly, being still around $49\\%$ and $57\\%$ respectively. \n",
        "\n",
        "Another parameter we can adjust is the class weight in the model, this is to handle the imbalance of the dataset (having less cancelations than no cancelations).Thus, in the next gird search, we look again at different $C$ values but also add no weighting and balanced weighting as parameters. As our property of interest is recall rather than the accuray, we also set the refit parameter to recall."
      ],
      "metadata": {
        "id": "xBlKdeenpnEW"
      }
    },
    {
      "cell_type": "code",
      "source": [
        "#@title\n",
        "log_pipe = Pipeline([\n",
        "            (\"scaler\", StandardScaler()),\n",
        "            (\"model\", LogisticRegression(C = c,\n",
        "                                         random_state=42,\n",
        "                                         solver = \"saga\",\n",
        "                                         max_iter = 150))])\n",
        "    \n",
        "# specify parameters and distributions to sample from\n",
        "log_param_dist = {\n",
        "    'model__C':loguniform(C_list[0], C_list[-1]),\n",
        "    'model__class_weight': [None, \"balanced\"]\n",
        "}\n",
        "\n",
        "bal_log_rs = RandomizedSearchCV(log_pipe, \n",
        "                            param_distributions = log_param_dist, \n",
        "                            scoring = [\"accuracy\", \"f1\",\"recall\",\"precision\"], \n",
        "                            cv = StratifiedKFold(n_splits=5),\n",
        "                            refit = \"recall\", \n",
        "                            random_state = 42,\n",
        "                            return_train_score = True)\n",
        "\n",
        "bal_log_rs.fit(X_train, y_train)"
      ],
      "metadata": {
        "id": "S4QknfjGsBH6"
      },
      "execution_count": null,
      "outputs": []
    },
    {
      "cell_type": "code",
      "source": [
        "#@title\n",
        "bal_log_rs_df = pd.DataFrame(bal_log_rs.cv_results_)\n",
        "bal_log_rs_df.sort_values(\"mean_test_recall\", ascending=False)[[\"param_model__class_weight\", \n",
        "                                                                  \"param_model__C\", \n",
        "                                                                  \"mean_test_accuracy\", \"mean_test_recall\", \n",
        "                                                                   \"mean_test_precision\", \"mean_test_f1\"]]"
      ],
      "metadata": {
        "colab": {
          "base_uri": "https://localhost:8080/",
          "height": 363
        },
        "id": "MVWpzYh6zKaG",
        "outputId": "051b7164-8096-414b-efc2-0c49953e95ad",
        "cellView": "form"
      },
      "execution_count": null,
      "outputs": [
        {
          "output_type": "execute_result",
          "data": {
            "text/plain": [
              "  param_model__class_weight param_model__C  mean_test_accuracy  \\\n",
              "1                  balanced       0.397409            0.749801   \n",
              "5                  balanced       3.191362            0.749763   \n",
              "6                  balanced     572.626869            0.749763   \n",
              "8                  balanced    3211.102086            0.749763   \n",
              "4                  balanced       0.069911            0.749801   \n",
              "7                  balanced        0.06831            0.749801   \n",
              "9                  balanced       0.031589            0.749840   \n",
              "0                      None       5.620905            0.797703   \n",
              "2                      None     125.641537            0.797703   \n",
              "3                      None      15.101867            0.797703   \n",
              "\n",
              "   mean_test_recall  mean_test_precision  mean_test_f1  \n",
              "1          0.794026             0.528664      0.634723  \n",
              "5          0.794026             0.528614      0.634688  \n",
              "6          0.794026             0.528614      0.634688  \n",
              "8          0.794026             0.528614      0.634688  \n",
              "4          0.793979             0.528665      0.634709  \n",
              "7          0.793979             0.528665      0.634709  \n",
              "9          0.793838             0.528720      0.634704  \n",
              "0          0.488646             0.682259      0.569414  \n",
              "2          0.488646             0.682259      0.569414  \n",
              "3          0.488646             0.682259      0.569414  "
            ],
            "text/html": [
              "\n",
              "  <div id=\"df-3879ab6b-31ae-42fa-92c1-66cca09f2469\">\n",
              "    <div class=\"colab-df-container\">\n",
              "      <div>\n",
              "<style scoped>\n",
              "    .dataframe tbody tr th:only-of-type {\n",
              "        vertical-align: middle;\n",
              "    }\n",
              "\n",
              "    .dataframe tbody tr th {\n",
              "        vertical-align: top;\n",
              "    }\n",
              "\n",
              "    .dataframe thead th {\n",
              "        text-align: right;\n",
              "    }\n",
              "</style>\n",
              "<table border=\"1\" class=\"dataframe\">\n",
              "  <thead>\n",
              "    <tr style=\"text-align: right;\">\n",
              "      <th></th>\n",
              "      <th>param_model__class_weight</th>\n",
              "      <th>param_model__C</th>\n",
              "      <th>mean_test_accuracy</th>\n",
              "      <th>mean_test_recall</th>\n",
              "      <th>mean_test_precision</th>\n",
              "      <th>mean_test_f1</th>\n",
              "    </tr>\n",
              "  </thead>\n",
              "  <tbody>\n",
              "    <tr>\n",
              "      <th>1</th>\n",
              "      <td>balanced</td>\n",
              "      <td>0.397409</td>\n",
              "      <td>0.749801</td>\n",
              "      <td>0.794026</td>\n",
              "      <td>0.528664</td>\n",
              "      <td>0.634723</td>\n",
              "    </tr>\n",
              "    <tr>\n",
              "      <th>5</th>\n",
              "      <td>balanced</td>\n",
              "      <td>3.191362</td>\n",
              "      <td>0.749763</td>\n",
              "      <td>0.794026</td>\n",
              "      <td>0.528614</td>\n",
              "      <td>0.634688</td>\n",
              "    </tr>\n",
              "    <tr>\n",
              "      <th>6</th>\n",
              "      <td>balanced</td>\n",
              "      <td>572.626869</td>\n",
              "      <td>0.749763</td>\n",
              "      <td>0.794026</td>\n",
              "      <td>0.528614</td>\n",
              "      <td>0.634688</td>\n",
              "    </tr>\n",
              "    <tr>\n",
              "      <th>8</th>\n",
              "      <td>balanced</td>\n",
              "      <td>3211.102086</td>\n",
              "      <td>0.749763</td>\n",
              "      <td>0.794026</td>\n",
              "      <td>0.528614</td>\n",
              "      <td>0.634688</td>\n",
              "    </tr>\n",
              "    <tr>\n",
              "      <th>4</th>\n",
              "      <td>balanced</td>\n",
              "      <td>0.069911</td>\n",
              "      <td>0.749801</td>\n",
              "      <td>0.793979</td>\n",
              "      <td>0.528665</td>\n",
              "      <td>0.634709</td>\n",
              "    </tr>\n",
              "    <tr>\n",
              "      <th>7</th>\n",
              "      <td>balanced</td>\n",
              "      <td>0.06831</td>\n",
              "      <td>0.749801</td>\n",
              "      <td>0.793979</td>\n",
              "      <td>0.528665</td>\n",
              "      <td>0.634709</td>\n",
              "    </tr>\n",
              "    <tr>\n",
              "      <th>9</th>\n",
              "      <td>balanced</td>\n",
              "      <td>0.031589</td>\n",
              "      <td>0.749840</td>\n",
              "      <td>0.793838</td>\n",
              "      <td>0.528720</td>\n",
              "      <td>0.634704</td>\n",
              "    </tr>\n",
              "    <tr>\n",
              "      <th>0</th>\n",
              "      <td>None</td>\n",
              "      <td>5.620905</td>\n",
              "      <td>0.797703</td>\n",
              "      <td>0.488646</td>\n",
              "      <td>0.682259</td>\n",
              "      <td>0.569414</td>\n",
              "    </tr>\n",
              "    <tr>\n",
              "      <th>2</th>\n",
              "      <td>None</td>\n",
              "      <td>125.641537</td>\n",
              "      <td>0.797703</td>\n",
              "      <td>0.488646</td>\n",
              "      <td>0.682259</td>\n",
              "      <td>0.569414</td>\n",
              "    </tr>\n",
              "    <tr>\n",
              "      <th>3</th>\n",
              "      <td>None</td>\n",
              "      <td>15.101867</td>\n",
              "      <td>0.797703</td>\n",
              "      <td>0.488646</td>\n",
              "      <td>0.682259</td>\n",
              "      <td>0.569414</td>\n",
              "    </tr>\n",
              "  </tbody>\n",
              "</table>\n",
              "</div>\n",
              "      <button class=\"colab-df-convert\" onclick=\"convertToInteractive('df-3879ab6b-31ae-42fa-92c1-66cca09f2469')\"\n",
              "              title=\"Convert this dataframe to an interactive table.\"\n",
              "              style=\"display:none;\">\n",
              "        \n",
              "  <svg xmlns=\"http://www.w3.org/2000/svg\" height=\"24px\"viewBox=\"0 0 24 24\"\n",
              "       width=\"24px\">\n",
              "    <path d=\"M0 0h24v24H0V0z\" fill=\"none\"/>\n",
              "    <path d=\"M18.56 5.44l.94 2.06.94-2.06 2.06-.94-2.06-.94-.94-2.06-.94 2.06-2.06.94zm-11 1L8.5 8.5l.94-2.06 2.06-.94-2.06-.94L8.5 2.5l-.94 2.06-2.06.94zm10 10l.94 2.06.94-2.06 2.06-.94-2.06-.94-.94-2.06-.94 2.06-2.06.94z\"/><path d=\"M17.41 7.96l-1.37-1.37c-.4-.4-.92-.59-1.43-.59-.52 0-1.04.2-1.43.59L10.3 9.45l-7.72 7.72c-.78.78-.78 2.05 0 2.83L4 21.41c.39.39.9.59 1.41.59.51 0 1.02-.2 1.41-.59l7.78-7.78 2.81-2.81c.8-.78.8-2.07 0-2.86zM5.41 20L4 18.59l7.72-7.72 1.47 1.35L5.41 20z\"/>\n",
              "  </svg>\n",
              "      </button>\n",
              "      \n",
              "  <style>\n",
              "    .colab-df-container {\n",
              "      display:flex;\n",
              "      flex-wrap:wrap;\n",
              "      gap: 12px;\n",
              "    }\n",
              "\n",
              "    .colab-df-convert {\n",
              "      background-color: #E8F0FE;\n",
              "      border: none;\n",
              "      border-radius: 50%;\n",
              "      cursor: pointer;\n",
              "      display: none;\n",
              "      fill: #1967D2;\n",
              "      height: 32px;\n",
              "      padding: 0 0 0 0;\n",
              "      width: 32px;\n",
              "    }\n",
              "\n",
              "    .colab-df-convert:hover {\n",
              "      background-color: #E2EBFA;\n",
              "      box-shadow: 0px 1px 2px rgba(60, 64, 67, 0.3), 0px 1px 3px 1px rgba(60, 64, 67, 0.15);\n",
              "      fill: #174EA6;\n",
              "    }\n",
              "\n",
              "    [theme=dark] .colab-df-convert {\n",
              "      background-color: #3B4455;\n",
              "      fill: #D2E3FC;\n",
              "    }\n",
              "\n",
              "    [theme=dark] .colab-df-convert:hover {\n",
              "      background-color: #434B5C;\n",
              "      box-shadow: 0px 1px 3px 1px rgba(0, 0, 0, 0.15);\n",
              "      filter: drop-shadow(0px 1px 2px rgba(0, 0, 0, 0.3));\n",
              "      fill: #FFFFFF;\n",
              "    }\n",
              "  </style>\n",
              "\n",
              "      <script>\n",
              "        const buttonEl =\n",
              "          document.querySelector('#df-3879ab6b-31ae-42fa-92c1-66cca09f2469 button.colab-df-convert');\n",
              "        buttonEl.style.display =\n",
              "          google.colab.kernel.accessAllowed ? 'block' : 'none';\n",
              "\n",
              "        async function convertToInteractive(key) {\n",
              "          const element = document.querySelector('#df-3879ab6b-31ae-42fa-92c1-66cca09f2469');\n",
              "          const dataTable =\n",
              "            await google.colab.kernel.invokeFunction('convertToInteractive',\n",
              "                                                     [key], {});\n",
              "          if (!dataTable) return;\n",
              "\n",
              "          const docLinkHtml = 'Like what you see? Visit the ' +\n",
              "            '<a target=\"_blank\" href=https://colab.research.google.com/notebooks/data_table.ipynb>data table notebook</a>'\n",
              "            + ' to learn more about interactive tables.';\n",
              "          element.innerHTML = '';\n",
              "          dataTable['output_type'] = 'display_data';\n",
              "          await google.colab.output.renderOutput(dataTable, element);\n",
              "          const docLink = document.createElement('div');\n",
              "          docLink.innerHTML = docLinkHtml;\n",
              "          element.appendChild(docLink);\n",
              "        }\n",
              "      </script>\n",
              "    </div>\n",
              "  </div>\n",
              "  "
            ]
          },
          "metadata": {},
          "execution_count": 20
        }
      ]
    },
    {
      "cell_type": "markdown",
      "source": [
        "This table summarised the results of the grid search algorithm which included different $C$ values as well as weighting. We can see that if the class weight is balanced, we get a big improvement for the mean recall, from $\\sim 42\\%$ to $\\sim 79\\%$. The $F1$ value also increased to $63\\%$, which is an improvement and shows that we deal better with the fact that the data is unbalanced. The mean accuracy is slightly worse than before, but we accept that as we are more interested in a higher value of recall. The next section will present our final model and discuss why we have chosen it."
      ],
      "metadata": {
        "id": "v2d6WIkgvRHB"
      }
    },
    {
      "cell_type": "markdown",
      "metadata": {
        "id": "_r8RWPdEAMks"
      },
      "source": [
        "## **4. Discussion & Conclusions**\n"
      ]
    },
    {
      "cell_type": "markdown",
      "source": [
        "The perfomance and reliability of our final model will be explored in this section. This will be compared to the previous model to highlight any improvements that were made for the predicitive model for cancelations of bookings. We will then provide an overview of which features were found to be important for cancelations and which were less likely to influence cancelation."
      ],
      "metadata": {
        "id": "V_cIWSXky9d-"
      }
    },
    {
      "cell_type": "markdown",
      "source": [
        "###**Model Prediction**"
      ],
      "metadata": {
        "id": "jQTSqOnptwi3"
      }
    },
    {
      "cell_type": "code",
      "source": [
        "#@title\n",
        "# 0.031589 is the best recall we can find I think and accuracy combined and happens when we use weights that balance the ratios of 0s and 1s in y\n",
        "# Note instead of balanced we could try oversampling or undersampling as discussed in workshop 7.\n",
        "# [MLP Workshop 7]\n",
        "c = 0.031589\n",
        "print(\"\")\n",
        "print(\"for C = \", c)\n",
        "\n",
        "log_pipe = Pipeline([\n",
        "            (\"scaler\", StandardScaler()),\n",
        "            (\"model\", LogisticRegression(C = c,random_state=42, solver = \"saga\",class_weight = \"balanced\"))])\n",
        "\n",
        "log_pipe.fit(X_train, y_train)\n",
        "\n",
        "# use the classifier to predict the validation set    \n",
        "# predictions = log_pipe.predict(X_val)\n",
        "predictions = log_pipe.predict(X_test)\n",
        "\n",
        "# get the confusion matrix as a numpy array\n",
        "# confmat = confusion_matrix(y_true=y_val, y_pred=predictions)\n",
        "confmat = confusion_matrix(y_true = y_test, y_pred=predictions)\n",
        "\n",
        "FP_i = [0,1]\n",
        "TN_i = [0,0]\n",
        "TP_i = [1,1]\n",
        "FN_i = [1,0]\n",
        "\n",
        "# Extracting the quantities from the confusion matrix \n",
        "FP = confmat[0,1]\n",
        "TN = confmat[0,0]\n",
        "TP = confmat[1,1]\n",
        "FN = confmat[1,0]\n",
        "\n",
        "# Calculation of FPR, Recall, Precision, F1 Score and Accuracy\n",
        "# FPR\n",
        "FPR = (FP)/(FP+TN)\n",
        "# Recall\n",
        "Recall = (TP)/(TP+FN)\n",
        "# Precision\n",
        "Precision = (TP)/(FP+TP)\n",
        "# F1 Score\n",
        "F1 = f1_score(y_true=y_test, y_pred=predictions)\n",
        "# Accuracy\n",
        "Accuracy = (TN+TP)/(TN+TP+FN+FP)\n",
        "\n",
        "plot_conf_matrices(y_test, predictions)\n",
        "print('False Positive Rate (FPR): '+ '%.3f' % FPR)\n",
        "print('Recall: '+ '%.3f' % Recall)\n",
        "print('Precision: '+ '%.3f' % Precision)\n",
        "print('F1 Score: '+ '%.3f' % F1)\n",
        "print('Accuracy: '+ '%.3f' % Accuracy)"
      ],
      "metadata": {
        "colab": {
          "base_uri": "https://localhost:8080/",
          "height": 387
        },
        "id": "71l6l0_2zWK_",
        "outputId": "9ceeebe5-2019-4a00-c291-904cfbcbbb38"
      },
      "execution_count": null,
      "outputs": [
        {
          "output_type": "stream",
          "name": "stdout",
          "text": [
            "\n",
            "for C =  0.031589\n"
          ]
        },
        {
          "output_type": "display_data",
          "data": {
            "text/plain": [
              "<Figure size 432x288 with 2 Axes>"
            ],
            "image/png": "[encoded data removed]"
          },
          "metadata": {
            "needs_background": "light"
          }
        },
        {
          "output_type": "stream",
          "name": "stdout",
          "text": [
            "False Positive Rate (FPR): 0.265\n",
            "Recall: 0.783\n",
            "Precision: 0.527\n",
            "F1 Score: 0.630\n",
            "Accuracy: 0.748\n"
          ]
        }
      ]
    },
    {
      "cell_type": "markdown",
      "source": [
        "Our final model is a logistic regression model, using balanced classes in order to account for the ratio of the response variable. The plot above shows the confusion matrix which is used to evaluate the performance of the classification. The $\\text{FN}$ value shows when the model predicts no cancelation and there is a cancelation. The $\\text{FN}$ value of $516$ in our final model is reduced from the previous calculated value in section 3. This leads to an improvement in the recall value. In the context of bookings the FN value is more important than $\\text{FP}$ as bookings which are predicted not to be canceled which end up being canceled is worse for hotel profitability than when a cancelation is predicted and there isn't a cancelation. The recall value in our final model is $0.783$. This shows that the ratio of bookings that were correctly predicted to be canceled were relatively well predicted. This would allow the hotel to confidently predict cancelations and would allow for the readvertisement of hotel rooms for bookings that are predicted to be canceled. Thus, ensuring that hotel bookings can reach a full capacity and increased profitability.\n",
        "\n",
        "The precision measure shows the proportion of bookings that were correctly predicted as canceled to the total bookings predicted to be canceled. Here the ratio is $0.527$, meaning that about half of the bookings predicted to be canceled were indeed canceled. This may not sound very promising but precision comes second in our case, since we have high recall. We predicted most of the bookings that were indeed canceled correctly and the predictions of no cancelations that were canceled, are few. This minimises the probability of under-booking which reduces the loss made for hotels. The relation between recall and precision can be seen in the plot below. \n"
      ],
      "metadata": {
        "id": "YJaKTcf6zusq"
      }
    },
    {
      "cell_type": "code",
      "source": [
        "#@title\n",
        "#precision_recall_curve(y_val, predictions)\n",
        "from sklearn.metrics import PrecisionRecallDisplay\n",
        "\n",
        "c = 0.031589\n",
        "log_pipe = Pipeline([\n",
        "            (\"scaler\", StandardScaler()),\n",
        "            (\"model\", LogisticRegression(C = c,random_state=42, solver = \"saga\",class_weight = \"balanced\"))])\n",
        "\n",
        "log_pipe.fit(X_train, y_train)\n",
        "display = PrecisionRecallDisplay.from_estimator(log_pipe, X_test, y_test, name=\"LogisticRegression\")\n",
        "_ = display.ax_.set_title(\"2-class Precision-Recall curve\")\n",
        "plt.scatter(x = 0.79, y = 0.52, c = 'red')"
      ],
      "metadata": {
        "id": "9n8SIYYGrZTI",
        "colab": {
          "base_uri": "https://localhost:8080/",
          "height": 312
        },
        "outputId": "899d96f7-6abf-45a7-a2f0-1f7bf9c101bc",
        "cellView": "form"
      },
      "execution_count": null,
      "outputs": [
        {
          "output_type": "execute_result",
          "data": {
            "text/plain": [
              "<matplotlib.collections.PathCollection at 0x7f947f1249d0>"
            ]
          },
          "metadata": {},
          "execution_count": 22
        },
        {
          "output_type": "display_data",
          "data": {
            "text/plain": [
              "<Figure size 432x288 with 1 Axes>"
            ],
            "image/png": "[encoded data removed]"
          },
          "metadata": {
            "needs_background": "light"
          }
        }
      ]
    },
    {
      "cell_type": "markdown",
      "source": [
        "This plot shows how recall and precision relate to each other for the given dataset. We can see that a higher recall leads to a smaller precision. We also marked the recall and precision of our final model, where we were mainly interested in increasing the recall value. We can see from this plot, that by achieving a relatively high recall value, the precision nearly decreases by $50\\%$. This means that now, there is a greater chance that the prediction for a cancelation is incorrect."
      ],
      "metadata": {
        "id": "pmyEPVZvrf-H"
      }
    },
    {
      "cell_type": "code",
      "source": [
        "#@title\n",
        "# best accuracy model\n",
        "log_pipe_acc = Pipeline([\n",
        "            (\"scaler\", StandardScaler()),\n",
        "            (\"model\", LogisticRegression(C = 5.620905,random_state=42, solver = \"saga\"))])\n",
        "\n",
        "log_pipe_acc.fit(X_train, y_train)\n",
        "\n",
        "# best recall model\n",
        "log_pipe_recall = Pipeline([\n",
        "            (\"scaler\", StandardScaler()),\n",
        "            (\"model\", LogisticRegression(C = 0.031589,random_state=42, solver = \"saga\",class_weight = \"balanced\"))])\n",
        "\n",
        "log_pipe_recall.fit(X_train, y_train)\n",
        "\n",
        "plot_conf_matrices(y_test, log_pipe_acc.predict(X_test), \"Best CV Accuracy Validation Confusion Matrix\")\n",
        "\n",
        "plot_conf_matrices(y_test, log_pipe_recall.predict(X_test), \"Best CV Recall Validation Confusion Matrix\")\n",
        "\n",
        "\n"
      ],
      "metadata": {
        "colab": {
          "base_uri": "https://localhost:8080/",
          "height": 545
        },
        "id": "4en0yd7i0xUQ",
        "outputId": "ef57f547-4be9-4035-cf9c-cd3aad04ed80"
      },
      "execution_count": null,
      "outputs": [
        {
          "output_type": "display_data",
          "data": {
            "text/plain": [
              "<Figure size 432x288 with 2 Axes>"
            ],
            "image/png": "[encoded data removed]"
          },
          "metadata": {
            "needs_background": "light"
          }
        },
        {
          "output_type": "display_data",
          "data": {
            "text/plain": [
              "<Figure size 432x288 with 2 Axes>"
            ],
            "image/png": "[encoded data removed]"
          },
          "metadata": {
            "needs_background": "light"
          }
        }
      ]
    },
    {
      "cell_type": "markdown",
      "source": [
        "As mentioned previously, we believed that the value of FN is the most important when ensuring that the hotel doesn't make a loss. In order to attain the improvement in FN, there was a cost to accuracy and the value of FP as you can see in these 2 confusion matrices contrasting each other. To be able to predict more accurately the bookings that will not be canceled, we would have to limit our ability to correctly predict those that will cancel."
      ],
      "metadata": {
        "id": "7adXsjAY1nSw"
      }
    },
    {
      "cell_type": "markdown",
      "source": [
        "### **Feature Influence**"
      ],
      "metadata": {
        "id": "UQ5WGwKttfGB"
      }
    },
    {
      "cell_type": "code",
      "source": [
        "#@title\n",
        "# Graph of 30 greatest coefficients, colours indicates if it is negative or positive\n",
        "\n",
        "coefs = log_pipe['model'].coef_.flatten()\n",
        "features = data_x.columns\n",
        "signs = np.where(coefs > 0,\"positive\",\"negative\")\n",
        "coeflist = pd.DataFrame(columns = [\"Feature\",\"Coefficient\",\"Sign\"])\n",
        "coeflist[\"Feature\"] = features\n",
        "coeflist[\"Coefficient\"] = np.abs(coefs)\n",
        "coeflist[\"Sign\"] = signs\n",
        "coeflist_upd = coeflist.sort_values(\"Coefficient\", axis = 0, ascending = False)\n",
        "head_coefs = coeflist_upd.head(30) #change if we want more \n",
        "\n",
        "plt.figure(figsize = (16,8))\n",
        "sns.barplot(x = \"Feature\",y = \"Coefficient\",data = head_coefs, hue = \"Sign\")\n",
        "plt.xticks(rotation = 90)"
      ],
      "metadata": {
        "colab": {
          "base_uri": "https://localhost:8080/",
          "height": 703
        },
        "id": "fChoFA3Oz_iy",
        "outputId": "31c63a0c-ab4a-4abf-b97c-3808dfdbfd8d"
      },
      "execution_count": null,
      "outputs": [
        {
          "output_type": "execute_result",
          "data": {
            "text/plain": [
              "(array([ 0,  1,  2,  3,  4,  5,  6,  7,  8,  9, 10, 11, 12, 13, 14, 15, 16,\n",
              "        17, 18, 19, 20, 21, 22, 23, 24, 25, 26, 27, 28, 29]),\n",
              " <a list of 30 Text major ticklabel objects>)"
            ]
          },
          "metadata": {},
          "execution_count": 24
        },
        {
          "output_type": "display_data",
          "data": {
            "text/plain": [
              "<Figure size 1152x576 with 1 Axes>"
            ],
            "image/png": "[encoded data removed]"
          },
          "metadata": {
            "needs_background": "light"
          }
        }
      ]
    },
    {
      "cell_type": "markdown",
      "source": [
        "The plot shows the influence of the features on a booking being either canceled or not canceled. The graph specifically looks at the 30 most influential coefficients and whether they are affecting bookings being canceled positively or negatively. The blue bar plots show features less likely to lead to a booking being canceled, whilst the orange bar plots show features that are more likely to lead to a booking being canceled.\n",
        "\n",
        "The top 3 features less likely to lead a cancelation: \n",
        "- `required_car_parking_spaces`\n",
        "- `total_of_special_requests`\n",
        "- `market_segment_Offline TA/TO`\n",
        "\n",
        "A customer that opted for a car parking space was more likely not to cancel on their booking, whilst asking for a lot of special requests will also make it less likely to cancel a booking. The market segment feature accounts for bookings that were made offline through a travel agent or tour operator. This feature also led to less likely cancelations.\n",
        "\n",
        "The top 3 features more likely to lead to a cancelation: \n",
        "- `room_type`\n",
        "- `PRT`\n",
        "- `lead_weeks`\n",
        "\n",
        "The room type, meaning that the assigned room is the room that is reserved, customer bookings from Portugal and the amount of weeks between the time the booking was made to the date of arrival were more likely to lead to a cancelation. \n",
        "\n",
        "Using the analysis of the way in which features interact with cancelations, it can be used to understand why individuals may decide to cancel and how this can be accounted for. There could be numerous avenues in which hotels could take advantage of the information. If a booking contained certain features that were more likely to lead to a cancelation, i.e., `adr` (average daily rate) and `stay_in_nights` (how many nights stayed), then the hotel could offer a reduced car parking fee as this is a high influence feature that leads to less likely chance of cancelation. This is one example by which the influence and impact of features can be analysed in order to promote less hotel booking cancelations."
      ],
      "metadata": {
        "id": "85e9DZok07UG"
      }
    },
    {
      "cell_type": "markdown",
      "source": [
        "### **Final Thoughts**"
      ],
      "metadata": {
        "id": "xWbLY6MNuSzy"
      }
    },
    {
      "cell_type": "markdown",
      "source": [
        "In conclusion, we find that the model we built is able to predict whether a booking will be canceled or not. Our focus was to minimise the incorreclty predicted cancelations as this would have the worst outcome for hotel bookings. The model is based on logistic regression and has high metrics realting to accuracy and recall values. Our model may lead to overbooking, which we believe to be more feasible than having empty rooms for the future sustainability of the two hotels."
      ],
      "metadata": {
        "id": "neMtlNzVmk8y"
      }
    }
  ],
  "metadata": {
    "kernelspec": {
      "display_name": "Python 3",
      "language": "python",
      "name": "python3"
    },
    "language_info": {
      "codemirror_mode": {
        "name": "ipython",
        "version": 3
      },
      "file_extension": ".py",
      "mimetype": "text/x-python",
      "name": "python",
      "nbconvert_exporter": "python",
      "pygments_lexer": "ipython3",
      "version": "3.8.8"
    },
    "colab": {
      "provenance": [],
      "collapsed_sections": [
        "BCm4BMspAMkl",
        "KtUXtHOQEaXs"
      ]
    }
  },
  "nbformat": 4,
  "nbformat_minor": 0
}